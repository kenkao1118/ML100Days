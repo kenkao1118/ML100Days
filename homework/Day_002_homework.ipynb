{
 "cells": [
  {
   "cell_type": "markdown",
   "metadata": {},
   "source": [
    "## [作業目標]\n",
    "了解機器學習適合應用的領域與範疇。"
   ]
  },
  {
   "cell_type": "markdown",
   "metadata": {},
   "source": [
    "## [作業重點]\n",
    "透過瞭解機器學習的運作方式，找出非常適用機器學習應用的領域及其原因"
   ]
  },
  {
   "cell_type": "markdown",
   "metadata": {},
   "source": [
    "## 作業\n",
    "請找出一個你認為機器學習可以發光發熱的領域並闡述原因? "
   ]
  },
  {
   "cell_type": "code",
   "execution_count": null,
   "metadata": {},
   "outputs": [],
   "source": [
    "以監督式學習來看的,主要的應用都集中在圖像分類上,我覺得適合的領域在於surveillance上的應用,例如object detection,\n",
    "可用來偵測人員,車輛,動植物....等.適用的範圍可以用來做security偵測,如不適當時間人員逗留或入侵偵測,車輛車牌偵測,\n",
    "門窗異常偵測或是是否沒有帶口罩偵測.再進階上也能使用face detection,來加強security上對於人員身分的控管.由於此部分\n",
    "在於機器學習的判斷上不需要達到百分之百的正確率,只要能在detect到問題時發出alarm,讓相關人員再次進行確認即可,並且\n",
    "也能再使用機器學習的同時,省卻了保全人員要一直緊盯螢幕的工作,所以我覺得此部分是機器學習蠻不錯的使用領域.\n"
   ]
  }
 ],
 "metadata": {
  "kernelspec": {
   "display_name": "Python 3",
   "language": "python",
   "name": "python3"
  },
  "language_info": {
   "codemirror_mode": {
    "name": "ipython",
    "version": 3
   },
   "file_extension": ".py",
   "mimetype": "text/x-python",
   "name": "python",
   "nbconvert_exporter": "python",
   "pygments_lexer": "ipython3",
   "version": "3.7.4"
  }
 },
 "nbformat": 4,
 "nbformat_minor": 2
}
