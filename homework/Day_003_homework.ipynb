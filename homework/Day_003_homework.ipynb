{
 "cells": [
  {
   "cell_type": "markdown",
   "metadata": {},
   "source": [
    "## [作業目標]\n",
    "持續接觸有關機器學習的相關專案與最新技術"
   ]
  },
  {
   "cell_type": "markdown",
   "metadata": {},
   "source": [
    "## [作業重點]\n",
    "透過觀察頂尖公司的機器學習文章，來了解各公司是怎麼應用機器學習在實際的專案上"
   ]
  },
  {
   "cell_type": "markdown",
   "metadata": {},
   "source": [
    "## [作業]\n",
    "今天的作業希望大家能夠看看全球機器學習巨頭們在做的機器學習專案。以 google 為例，下圖是 Google 內部專案使用機器學習的數量，隨著時間進展，現在早已超過 2000 個專案在使用機器學習。"
   ]
  },
  {
   "cell_type": "markdown",
   "metadata": {},
   "source": [
    "![image](https://cdn-images-1.medium.com/max/800/1*U_L8qI8RmYS-MOBrYvXhSA.png)"
   ]
  },
  {
   "cell_type": "markdown",
   "metadata": {},
   "source": [
    "底下幫同學整理幾間知名企業的 blog 或機器學習網站 (自行搜尋也可)，這些網站都會整理最新的機器學習專案或者是技術文章，請挑選一篇文章閱讀並試著回答\n",
    "1. 專案的目標？ (要解決什麼問題）\n",
    "2. 使用的技術是？ (只需知道名稱即可，例如：使用 CNN 卷積神經網路做影像分類)\n",
    "3. 資料來源？ "
   ]
  },
  {
   "cell_type": "markdown",
   "metadata": {},
   "source": [
    "- [Google AI blog](https://ai.googleblog.com/)\n",
    "- [Facebook Research blog](https://research.fb.com/blog/)\n",
    "- [Apple machine learning journal](https://machinelearning.apple.com/)\n",
    "- [機器之心](https://www.jiqizhixin.com/)\n",
    "- [雷鋒網](http://www.leiphone.com/category/ai)"
   ]
  },
  {
   "cell_type": "code",
   "execution_count": null,
   "metadata": {},
   "outputs": [],
   "source": [
    "專案的目標: 主要用來解決野生數位相機針對各種規模的目標物體增加其強健的偵測正確率。由於靜態攝像機除非移動，\n",
    "        否則始終會拍攝同一場景的圖像，這會導致來自每一台攝像機的數據具有高度重複性。在沒有足夠的數據可變性\n",
    "        的情況下，機器學習模型可能會學習集中於background的相關性,所以就會導致野生動物在低光源或是濃霧中時不易\n",
    "        於被偵測到,而context RCNN主要是針對faster RCNN作改良,增加了一個contexture memory bank來記錄偵測物的\n",
    "        特徵值,並且將此儲存的時間拉長到將近1個月的時間,所以當攝像機的檢測場景遇到相當嚴苛的天氣時,如大霧,則可以\n",
    "        透過特徵值與ontexture memory bank比對的方式,做出確的判斷,而這個聚合的AI model也是採用最新的attention.\n",
    "        \n",
    "使用的技術是？使用context RCNN結合時間來做野生動物偵測\n",
    "\n",
    "資料來源？Google AI blog \"Leveraging Temporal Context for Object Detection\"\n",
    "https://ai.googleblog.com/2020/06/leveraging-temporal-context-for-object.html\n"
   ]
  }
 ],
 "metadata": {
  "kernelspec": {
   "display_name": "Python 3",
   "language": "python",
   "name": "python3"
  },
  "language_info": {
   "codemirror_mode": {
    "name": "ipython",
    "version": 3
   },
   "file_extension": ".py",
   "mimetype": "text/x-python",
   "name": "python",
   "nbconvert_exporter": "python",
   "pygments_lexer": "ipython3",
   "version": "3.7.4"
  }
 },
 "nbformat": 4,
 "nbformat_minor": 2
}
